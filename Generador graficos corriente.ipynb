{
 "cells": [
  {
   "cell_type": "code",
   "execution_count": 1,
   "metadata": {},
   "outputs": [],
   "source": [
    "import pandas as pd\n",
    "import seaborn as sns\n",
    "import matplotlib.pyplot as plt\n",
    "import math\n",
    "import os"
   ]
  },
  {
   "cell_type": "markdown",
   "metadata": {},
   "source": [
    "Asegurarse de tener los registros en una carpeta llamada como la variable _ruta_mediciones_"
   ]
  },
  {
   "cell_type": "code",
   "execution_count": 2,
   "metadata": {},
   "outputs": [],
   "source": [
    "ruta_mediciones = \"mediciones\""
   ]
  },
  {
   "cell_type": "markdown",
   "metadata": {},
   "source": [
    "---"
   ]
  },
  {
   "cell_type": "markdown",
   "metadata": {},
   "source": [
    "El ultimo experimento tiene algunos valores no numericos en la columna de la corriente cuando se va a la mierda, los sacamos."
   ]
  },
  {
   "cell_type": "code",
   "execution_count": 3,
   "metadata": {},
   "outputs": [],
   "source": [
    "clin = pd.read_csv(f\"{ruta_mediciones}/Exp4.xls\", sep='\\t')\n",
    "clin = clin.iloc[:174]\n",
    "clin.to_csv(\"mediciones/Exp4.xls\", index=False, sep='\\t')"
   ]
  },
  {
   "cell_type": "code",
   "execution_count": 4,
   "metadata": {},
   "outputs": [],
   "source": [
    "def voltaje(t, vo, c=0.0022, r=10000):\n",
    "    return vo*(1-math.e**(-t/(c*r)))"
   ]
  },
  {
   "cell_type": "code",
   "execution_count": 5,
   "metadata": {},
   "outputs": [],
   "source": [
    "voltajes = [50, 50, 30, 50]\n",
    "registros = [30, 20, 15, 8]"
   ]
  },
  {
   "cell_type": "code",
   "execution_count": 6,
   "metadata": {},
   "outputs": [],
   "source": [
    "def generar_grafico(experimento, registro, v0, c=0.0022, r=10000):\n",
    "    df = pd.read_csv(f\"{ruta_mediciones}/Exp{experimento+1}.xls\", sep='\\t')\n",
    "    df[\"Time\"] = df[\"Time\"].astype(\"datetime64\")\n",
    "    \n",
    "    df[\"Time\"] = df[\"Time\"] - df[\"Time\"][registro-1]\n",
    "    df[\"Time\"] = df[\"Time\"].dt.total_seconds()\n",
    "    df = df.iloc[registro-1:]\n",
    "    df = df.reset_index(drop=True)\n",
    "    \n",
    "    intervalo = df[\"Time\"].max()/df.shape[0]\n",
    "    df[\"Time\"] = df.index*intervalo\n",
    "    df[\"Voltaje\"] = voltaje(df[\"Time\"], v0)\n",
    "    \n",
    "    return sns.lineplot(df[\"Voltaje\"], df[\"Value\"])"
   ]
  },
  {
   "cell_type": "code",
   "execution_count": 7,
   "metadata": {},
   "outputs": [],
   "source": [
    "def guardar_graficos(registros, voltajes):\n",
    "    \"\"\"Guarda los graficos en una carpeta llamada 'Graficos' \"\"\"\n",
    "    ruta = \"Graficos\"\n",
    "    if not os.path.exists(ruta):\n",
    "        os.makedirs(ruta)\n",
    "    for i in range(len(registros)):\n",
    "        plt.clf()\n",
    "        grafico = generar_grafico(i, registros[i], voltajes[i])\n",
    "        grafico.get_figure().savefig(f\"{ruta}/Corrient-experimento-{i}\")"
   ]
  },
  {
   "cell_type": "code",
   "execution_count": 8,
   "metadata": {},
   "outputs": [
    {
     "data": {
      "image/png": "[encoded data removed]",
      "text/plain": [
       "<Figure size 432x288 with 1 Axes>"
      ]
     },
     "metadata": {
      "needs_background": "light"
     },
     "output_type": "display_data"
    }
   ],
   "source": [
    "guardar_graficos(registros, voltajes)"
   ]
  },
  {
   "cell_type": "code",
   "execution_count": null,
   "metadata": {},
   "outputs": [],
   "source": []
  }
 ],
 "metadata": {
  "kernelspec": {
   "display_name": "Python 3",
   "language": "python",
   "name": "python3"
  },
  "language_info": {
   "codemirror_mode": {
    "name": "ipython",
    "version": 3
   },
   "file_extension": ".py",
   "mimetype": "text/x-python",
   "name": "python",
   "nbconvert_exporter": "python",
   "pygments_lexer": "ipython3",
   "version": "3.7.4"
  }
 },
 "nbformat": 4,
 "nbformat_minor": 2
}
